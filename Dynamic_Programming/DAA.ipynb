{
 "cells": [
  {
   "cell_type": "code",
   "execution_count": 1,
   "id": "8422f88b-8764-46d4-abf4-84650c0a7b77",
   "metadata": {},
   "outputs": [
    {
     "name": "stdout",
     "output_type": "stream",
     "text": [
      "[[ 0  9 30 63 32 25 52 61]\n",
      " [11  6 27 24 29 62 33 50]\n",
      " [ 8  1 10 31 26 51 60 53]\n",
      " [ 5 12  7 28 23 34 49 40]\n",
      " [ 2 17  4 35 48 39 54 59]\n",
      " [13 20 15 22 45 56 41 38]\n",
      " [16  3 18 47 36 43 58 55]\n",
      " [19 14 21 44 57 46 37 42]]\n"
     ]
    }
   ],
   "source": [
    "import numpy as np\n",
    "\n",
    "def knight_tour(n):\n",
    "    board = [[-1 for i in range(n)] for j in range(n)]\n",
    "    \n",
    "    # Start the knight's tour from the top-left corner (0, 0)\n",
    "    if knight_tour_helper(n=n, board=board, x=0, y=0, counter=0):\n",
    "        print(np.array(board))\n",
    "    else:\n",
    "        print(\"No solution exists\")\n",
    "\n",
    "def knight_tour_helper(n, board, x, y, counter):\n",
    "    if counter == n * n:  # Base case: all squares are visited\n",
    "        return True\n",
    "    \n",
    "    # Check if the current position is out of bounds or already visited\n",
    "    if x < 0 or x >= n or y < 0 or y >= n or board[y][x] != -1:\n",
    "        return False\n",
    "    \n",
    "    # Mark the current square as visited\n",
    "    board[y][x] = counter\n",
    "    \n",
    "    # Possible moves a knight can make\n",
    "    x_moves = [-2, -2, -1, -1, 1, 1, 2, 2]\n",
    "    y_moves = [-1, 1, -2, 2, -2, 2, -1, 1]\n",
    "    \n",
    "    # Try all next moves from the current coordinate\n",
    "    for x_move, y_move in zip(x_moves, y_moves):\n",
    "        if knight_tour_helper(n, board, x + x_move, y + y_move, counter + 1):\n",
    "            return True\n",
    "    \n",
    "    # Backtrack: Unmark the current square as visited\n",
    "    board[y][x] = -1\n",
    "    return False\n",
    "\n",
    "knight_tour(8)\n"
   ]
  },
  {
   "cell_type": "code",
   "execution_count": 2,
   "id": "2aae4ca7-58f2-48f2-90a8-3b0323baced2",
   "metadata": {},
   "outputs": [
    {
     "name": "stdout",
     "output_type": "stream",
     "text": [
      "[[ 0  3 56 19 40  5 42 21]\n",
      " [33 18  1  4 57 20 39  6]\n",
      " [ 2 55 34 59 36 41 22 43]\n",
      " [17 32 47 52 45 58  7 38]\n",
      " [48 13 54 35 60 37 44 23]\n",
      " [31 16 51 46 53 26 61  8]\n",
      " [12 49 14 29 10 63 24 27]\n",
      " [15 30 11 50 25 28  9 62]]\n"
     ]
    },
    {
     "data": {
      "text/plain": [
       "True"
      ]
     },
     "execution_count": 2,
     "metadata": {},
     "output_type": "execute_result"
    }
   ],
   "source": [
    "import numpy as np\n",
    "\n",
    "# Knight's possible movements in terms of x and y coordinates\n",
    "knight_moves = [\n",
    "    (2, 1), (1, 2), (-1, 2), (-2, 1),\n",
    "    (-2, -1), (-1, -2), (1, -2), (2, -1)\n",
    "]\n",
    "\n",
    "def is_valid_move(x, y, n, board):\n",
    "    \"\"\"Check if the move is inside the board and not yet visited.\"\"\"\n",
    "    return 0 <= x < n and 0 <= y < n and board[y][x] == -1\n",
    "\n",
    "def get_degree(x, y, n, board):\n",
    "    \"\"\"Calculate the degree of the current position (number of possible moves).\"\"\"\n",
    "    degree = 0\n",
    "    for move in knight_moves:\n",
    "        new_x, new_y = x + move[0], y + move[1]\n",
    "        if is_valid_move(new_x, new_y, n, board):\n",
    "            degree += 1\n",
    "    return degree\n",
    "\n",
    "def warnsdorff_tour(n):\n",
    "    \"\"\"Solve the Knight's Tour problem using Warnsdorff's algorithm.\"\"\"\n",
    "    board = [[-1 for _ in range(n)] for _ in range(n)]\n",
    "    # Start the knight's tour from the top-left corner (0, 0)\n",
    "    x, y = 0, 0\n",
    "    board[y][x] = 0  # Starting point\n",
    "\n",
    "    for move_count in range(1, n * n):\n",
    "        min_degree = float('inf')\n",
    "        next_move = None\n",
    "        \n",
    "        # Try all possible knight moves\n",
    "        for move in knight_moves:\n",
    "            new_x, new_y = x + move[0], y + move[1]\n",
    "            if is_valid_move(new_x, new_y, n, board):\n",
    "                degree = get_degree(new_x, new_y, n, board)\n",
    "                # Choose the move with the lowest degree (minimum number of onward moves)\n",
    "                if degree < min_degree:\n",
    "                    min_degree = degree\n",
    "                    next_move = (new_x, new_y)\n",
    "\n",
    "        if next_move is None:\n",
    "            print(\"No solution exists!\")\n",
    "            return False\n",
    "        \n",
    "        # Move to the chosen next move\n",
    "        x, y = next_move\n",
    "        board[y][x] = move_count\n",
    "\n",
    "    print(np.array(board))\n",
    "    return True\n",
    "\n",
    "# Test the function with an 8x8 chessboard\n",
    "warnsdorff_tour(8)\n"
   ]
  },
  {
   "cell_type": "code",
   "execution_count": 4,
   "id": "7abf1196-1d58-43e3-ae63-19cb101347c1",
   "metadata": {},
   "outputs": [
    {
     "name": "stdout",
     "output_type": "stream",
     "text": [
      "Number of ways to reach bottom right with exactly 12 coins: 2\n",
      "Paths:\n",
      "[(0, 0), (0, 1), (0, 2), (1, 2), (2, 2)]\n",
      "[(0, 0), (0, 1), (1, 1), (2, 1), (2, 2)]\n"
     ]
    }
   ],
   "source": [
    "def count_ways_with_k_coins(matrix, k):\n",
    "    n = len(matrix)\n",
    "    m = len(matrix[0])\n",
    "\n",
    "    # Initialize the DP table with empty lists\n",
    "    dp = [[[] for _ in range(m)] for _ in range(n)]\n",
    "    \n",
    "    # Start from the top-left corner (0, 0) with the initial number of coins\n",
    "    if matrix[0][0] <= k:\n",
    "        dp[0][0] = [[(0, 0, matrix[0][0])]]  # Store path with initial coin count\n",
    "    \n",
    "    # Fill the DP table\n",
    "    for i in range(n):\n",
    "        for j in range(m):\n",
    "            for path in dp[i][j]:\n",
    "                current_coins = path[-1][2]  # Number of coins collected so far\n",
    "                # Move right\n",
    "                if j + 1 < m and current_coins + matrix[i][j+1] <= k:\n",
    "                    new_path = path + [(i, j + 1, current_coins + matrix[i][j + 1])]\n",
    "                    dp[i][j+1].append(new_path)\n",
    "                \n",
    "                # Move down\n",
    "                if i + 1 < n and current_coins + matrix[i+1][j] <= k:\n",
    "                    new_path = path + [(i + 1, j, current_coins + matrix[i + 1][j])]\n",
    "                    dp[i+1][j].append(new_path)\n",
    "    \n",
    "    # Extract paths that end at bottom-right corner with exactly k coins\n",
    "    valid_paths = []\n",
    "    for path in dp[n-1][m-1]:\n",
    "        if path[-1][2] == k:  # Check if the last cell in the path has exactly k coins\n",
    "            valid_paths.append(path)\n",
    "\n",
    "    return valid_paths\n",
    "\n",
    "# Example input\n",
    "matrix = [\n",
    "    [1, 2, 3],\n",
    "    [4, 6, 5],\n",
    "    [3, 2, 1]\n",
    "]\n",
    "k = 12\n",
    "\n",
    "# Calculate the number of ways and paths\n",
    "valid_paths = count_ways_with_k_coins(matrix, k)\n",
    "\n",
    "# Print all valid paths\n",
    "print(f\"Number of ways to reach bottom right with exactly {k} coins: {len(valid_paths)}\")\n",
    "print(\"Paths:\")\n",
    "for path in valid_paths:\n",
    "    path_cells = [(i, j) for (i, j, c) in path]  # Extract cell coordinates from path\n",
    "    print(path_cells)\n"
   ]
  },
  {
   "cell_type": "code",
   "execution_count": 2,
   "id": "89871db3-4e99-4b97-a254-8373b3054f61",
   "metadata": {},
   "outputs": [
    {
     "name": "stdout",
     "output_type": "stream",
     "text": [
      "Pattern found at index 7\n"
     ]
    }
   ],
   "source": [
    "def compute_lps_array(pattern):\n",
    "    length = 0  # Length of the previous longest prefix suffix\n",
    "    lps = [0] * len(pattern)\n",
    "    \n",
    "    i = 1\n",
    "    while i < len(pattern):\n",
    "        if pattern[i] == pattern[length]:\n",
    "            length += 1\n",
    "            lps[i] = length\n",
    "            i += 1\n",
    "        else:\n",
    "            if length != 0:\n",
    "                length = lps[length - 1]\n",
    "            else:\n",
    "                lps[i] = 0\n",
    "                i += 1\n",
    "    return lps\n",
    "\n",
    "def kmp_search(text, pattern):\n",
    "    m = len(pattern)\n",
    "    n = len(text)\n",
    "    \n",
    "    lps = compute_lps_array(pattern)\n",
    "    \n",
    "    i = 0  # index for text\n",
    "    j = 0  # index for pattern\n",
    "    \n",
    "    while i < n:\n",
    "        if pattern[j] == text[i]:\n",
    "            i += 1\n",
    "            j += 1\n",
    "            \n",
    "        if j == m:\n",
    "            print(f\"Pattern found at index {i - j}\")\n",
    "            j = lps[j - 1]\n",
    "        \n",
    "        elif i < n and pattern[j] != text[i]:\n",
    "            if j != 0:\n",
    "                j = lps[j - 1]\n",
    "            else:\n",
    "                i += 1\n",
    "\n",
    "# Example usage:\n",
    "text = \"AAAAAAAAAAB\"\n",
    "pattern = \"AAAB\"\n",
    "kmp_search(text, pattern)\n"
   ]
  },
  {
   "cell_type": "code",
   "execution_count": 3,
   "id": "1c108cbe-066e-4801-a52b-b060fb9be06c",
   "metadata": {},
   "outputs": [
    {
     "name": "stdout",
     "output_type": "stream",
     "text": [
      "The longest common substring in a string is 3\n"
     ]
    }
   ],
   "source": [
    "def LongComSubS(st1, st2):\n",
    "  ans = 0\n",
    "  for a in range(len(st1)):\n",
    "         for b in range(len(st2)):\n",
    "            k = 1\n",
    "            while ((a + k) < len(st1) and (b + k) < len(st2)\n",
    "        and st1[a + k] == st2[b + k]):\n",
    "                k = k + 1;\n",
    "            ans = max(ans, k)\n",
    "  return ans\n",
    "\n",
    "if __name__ == '__main__':\n",
    " \n",
    "    A = 'longest'\n",
    "    B = 'stone'\n",
    "    i = len(A)\n",
    "    j = len(B)\n",
    "    print('The longest common substring in a string is', LongComSubS(A, B))"
   ]
  },
  {
   "cell_type": "code",
   "execution_count": 4,
   "id": "93400cac-28c0-4598-8c71-9cb4803702a6",
   "metadata": {},
   "outputs": [
    {
     "name": "stdout",
     "output_type": "stream",
     "text": [
      "The longest common substring is AB\n"
     ]
    }
   ],
   "source": [
    "def LCS(X, Y, m, n):\n",
    " \n",
    "    maxLength = 0          \n",
    "    endingIndex = m        \n",
    "    lookup = [[0 for x in range(n + 1)] for y in range(m + 1)]\n",
    "    for i in range(1, m + 1):\n",
    "        for j in range(1, n + 1):\n",
    "            if X[i - 1] == Y[j - 1]:\n",
    "                lookup[i][j] = lookup[i - 1][j - 1] + 1\n",
    "                if lookup[i][j] > maxLength:\n",
    "                    maxLength = lookup[i][j]\n",
    "                    endingIndex = i\n",
    "    return X[endingIndex - maxLength: endingIndex]\n",
    "if __name__ == '__main__':\n",
    "    X = 'ABC'\n",
    "    Y = 'BABA'\n",
    "    m = len(X)\n",
    "    n = len(Y)\n",
    "    print('The longest common substring is', LCS(X, Y, m, n))"
   ]
  },
  {
   "cell_type": "code",
   "execution_count": 1,
   "id": "60d9afb6-a8d0-4978-896b-f66d37ef26e7",
   "metadata": {},
   "outputs": [
    {
     "name": "stdin",
     "output_type": "stream",
     "text": [
      " AAAAABBAA\n"
     ]
    },
    {
     "name": "stdout",
     "output_type": "stream",
     "text": [
      "Longest palindrome subString is: AABBAA\n",
      "Length is:  6\n"
     ]
    }
   ],
   "source": [
    "def printSubStr(str, low, high):\n",
    "    for i in range(low, high + 1):\n",
    "        print(str[i], end = \"\")\n",
    "def longestPalSubstr(str):\n",
    "    n = len(str)\n",
    "    maxLength = 1\n",
    "    start = 0\n",
    "    for i in range(n):\n",
    "        for j in range(i, n):\n",
    "            flag = 1\n",
    "            for k in range(0, ((j - i) // 2) + 1):\n",
    "                if (str[i + k] != str[j - k]):\n",
    "                    flag = 0\n",
    "            if (flag != 0 and (j - i + 1) > maxLength):\n",
    "                start = i\n",
    "                maxLength = j - i + 1\n",
    "    print(\"Longest palindrome subString is: \", end = \"\")\n",
    "    printSubStr(str, start, start + maxLength - 1)\n",
    "    return maxLength\n",
    "\n",
    "if __name__ == '__main__':\n",
    "    str = input()\n",
    "    print(\"\\nLength is: \", longestPalSubstr(str))\n"
   ]
  },
  {
   "cell_type": "code",
   "execution_count": 2,
   "id": "d4bf0638-9b1e-4b71-bfde-9e93e457ccaa",
   "metadata": {},
   "outputs": [
    {
     "name": "stdin",
     "output_type": "stream",
     "text": [
      " AABA\n"
     ]
    },
    {
     "name": "stdout",
     "output_type": "stream",
     "text": [
      "Longest palindrome substring is: ABA\n",
      "\n",
      "Length is:  3\n"
     ]
    }
   ],
   "source": [
    "def longestPalSubstr(string):\n",
    "    n = len(string) # calculating size of string\n",
    "    if (n < 2):\n",
    "        return n \n",
    "    start=0\n",
    "    maxLength = 1\n",
    "    for i in range(n):\n",
    "        low = i - 1\n",
    "        high = i + 1\n",
    "        while (high < n and string[high] == string[i] ):                              \n",
    "            high=high+1\n",
    "       \n",
    "        while (low >= 0 and string[low] == string[i] ):                \n",
    "            low=low-1\n",
    "        while (low >= 0 and high < n and string[low] == string[high] ):\n",
    "          low=low-1\n",
    "          high=high+1\n",
    "        length = high - low - 1\n",
    "        if (maxLength < length):\n",
    "            maxLength = length\n",
    "            start=low+1\n",
    "    print (\"Longest palindrome substring is:\",end=\" \")\n",
    "    print (string[start:start + maxLength])\n",
    "    return maxLength\n",
    "if __name__ == '__main__':\n",
    "    str = input()\n",
    "    print(\"\\nLength is: \", longestPalSubstr(str))"
   ]
  },
  {
   "cell_type": "code",
   "execution_count": 1,
   "id": "5b984afc-c692-4aac-a10e-bc9ba7fa53ff",
   "metadata": {},
   "outputs": [
    {
     "name": "stdout",
     "output_type": "stream",
     "text": [
      "3\n"
     ]
    }
   ],
   "source": [
    "def LD(s, t):\n",
    "    # If the first string is empty, the distance is the length of the second string\n",
    "    if s == \"\":\n",
    "        return len(t)\n",
    "    \n",
    "    # If the second string is empty, the distance is the length of the first string\n",
    "    if t == \"\":\n",
    "        return len(s)\n",
    "    \n",
    "    # If the last characters of the two strings are the same, no substitution is needed (cost = 0)\n",
    "    if s[-1] == t[-1]:\n",
    "        cost = 0\n",
    "    else:\n",
    "        # If the last characters are different, substitution is required (cost = 1)\n",
    "        cost = 1\n",
    "    # Calculate the minimum cost of:\n",
    "    # 1. Removing the last character from the first string (s[:-1], t) + 1\n",
    "    # 2. Removing the last character from the second string (s, t[:-1]) + 1\n",
    "    # 3. Substituting the last characters of both strings (s[:-1], t[:-1]) + cost\n",
    "    res = min([LD(s[:-1], t) + 1,\n",
    "               LD(s, t[:-1]) + 1, \n",
    "               LD(s[:-1], t[:-1]) + cost])\n",
    "    \n",
    "    # Return the result of the minimum edit distance\n",
    "    return res\n",
    "\n",
    "print(LD(\"Python\", \"Peithen\"))\n",
    "\n",
    "    \n",
    "\n"
   ]
  },
  {
   "cell_type": "code",
   "execution_count": 6,
   "id": "e0a22971-9f51-4d11-9899-fe512fecb570",
   "metadata": {},
   "outputs": [
    {
     "name": "stdout",
     "output_type": "stream",
     "text": [
      "8\n"
     ]
    }
   ],
   "source": [
    "#Minimum cost path\n",
    "R = 3\n",
    "C = 3\n",
    "def minCost(cost, m, n):\n",
    " \n",
    "    tc = [[0 for x in range(C)] for x in range(R)]\n",
    "    tc[0][0] = cost[0][0]\n",
    "    for i in range(1, m+1):\n",
    "        tc[i][0] = tc[i-1][0] + cost[i][0]\n",
    "    for j in range(1, n+1):\n",
    "        tc[0][j] = tc[0][j-1] + cost[0][j]\n",
    "    for i in range(1, m+1):\n",
    "        for j in range(1, n+1):\n",
    "            tc[i][j] = min(tc[i-1][j-1], tc[i-1][j], tc[i][j-1]) + cost[i][j]\n",
    "    return tc[m][n]\n",
    " \n",
    "# Driver program to test above functions\n",
    "cost = [[1, 2, 3],\n",
    "        [4, 8, 2],\n",
    "        [1, 5, 3]]\n",
    "print(minCost(cost, 2, 2))\n",
    "\n"
   ]
  },
  {
   "cell_type": "code",
   "execution_count": 1,
   "id": "dba344ea-2907-4a89-944d-75f356e24b20",
   "metadata": {},
   "outputs": [
    {
     "name": "stdout",
     "output_type": "stream",
     "text": [
      "The total number of ways to get the desired change is 4\n"
     ]
    }
   ],
   "source": [
    "def count(S, n, target):\n",
    "    if target == 0:\n",
    "        return 1\n",
    "    if target < 0 or n < 0:\n",
    "        return 0\n",
    "    incl = count(S, n, target - S[n])\n",
    "    excl = count(S, n - 1, target)\n",
    "    return incl + excl\n",
    "if __name__ == '__main__':\n",
    "    S = [1, 2, 3]\n",
    "    target = 4\n",
    "    print('The total number of ways to get the desired change is',\n",
    "        count(S, len(S) - 1, target))\n"
   ]
  },
  {
   "cell_type": "code",
   "execution_count": 2,
   "id": "736459d6-0527-4314-b88d-1353067060c4",
   "metadata": {},
   "outputs": [
    {
     "name": "stdout",
     "output_type": "stream",
     "text": [
      "The Coins Array:\n",
      "1\n",
      "5\n",
      "10\n",
      "Solution:4\n"
     ]
    }
   ],
   "source": [
    "def getNumberOfWays(N, Coins):\n",
    "    ways = [0] * (N + 1);\n",
    "    ways[0] = 1;\n",
    "    for i in range(len(Coins)):\n",
    "        for j in range(len(ways)):\n",
    "            if (Coins[i] <= j):\n",
    "                ways[j] += ways[(int)(j - Coins[i])];\n",
    "    return ways[N];\n",
    " \n",
    "def printArray(coins):\n",
    "    for i in coins:\n",
    "        print(i);\n",
    "\n",
    "if __name__ == '__main__':\n",
    "    Coins = [1, 5, 10];\n",
    "    print(\"The Coins Array:\");\n",
    "    printArray(Coins);\n",
    "    print(\"Solution:\",end=\"\");\n",
    "    print(getNumberOfWays(12, Coins));\n"
   ]
  },
  {
   "cell_type": "code",
   "execution_count": 1,
   "id": "d78fecdb-7ff6-433d-bd78-c636f33d45d2",
   "metadata": {},
   "outputs": [
    {
     "name": "stdout",
     "output_type": "stream",
     "text": [
      "Maximum Sub Array Sum Is 6\n"
     ]
    }
   ],
   "source": [
    "def maxSubArraySum(arr,size):\n",
    "    \n",
    "    max_till_now = arr[0]\n",
    "    max_ending = 0\n",
    "    \n",
    "    for i in range(0, size):\n",
    "        max_ending = max_ending + arr[i]\n",
    "        if max_ending < 0:\n",
    "            max_ending = 0\n",
    "        \n",
    "        \n",
    "        elif (max_till_now < max_ending):\n",
    "            max_till_now = max_ending\n",
    "            \n",
    "    return max_till_now\n",
    "\n",
    "arr = [-2, -3, 4, -1, -2, 5, -3]\n",
    "print(\"Maximum Sub Array Sum Is\" , maxSubArraySum(arr,len(arr)))"
   ]
  },
  {
   "cell_type": "code",
   "execution_count": 4,
   "id": "29cf73a0-226b-4eb0-b670-4c4547816f9e",
   "metadata": {},
   "outputs": [
    {
     "name": "stdin",
     "output_type": "stream",
     "text": [
      " 5\n",
      " 1\n",
      " 4\n",
      " 6\n",
      " 8\n",
      " 9\n"
     ]
    },
    {
     "name": "stdout",
     "output_type": "stream",
     "text": [
      "[1, 4, 6, 8, 9]\n",
      "[1, 4, 6, 8, 9]\n"
     ]
    }
   ],
   "source": [
    "def partition(l, r, nums):\n",
    "    # Last element will be the pivot and the first element the pointer\n",
    "    pivot, ptr = nums[r], l\n",
    "    for i in range(l, r):\n",
    "        if nums[i] <= pivot:\n",
    "            # Swapping values smaller than the pivot to the front\n",
    "            nums[i], nums[ptr] = nums[ptr], nums[i]\n",
    "            ptr += 1\n",
    "    # Finally swapping the last element with the pointer indexed number\n",
    "    nums[ptr], nums[r] = nums[r], nums[ptr]\n",
    "    return ptr\n",
    "\n",
    "def quicksort(l, r, nums):\n",
    "    if len(nums) == 1:  # Terminating Condition for recursion. VERY IMPORTANT!\n",
    "        return nums\n",
    "    if l < r:\n",
    "        pi = partition(l, r, nums)\n",
    "        quicksort(l, pi-1, nums)  # Recursively sorting the left values\n",
    "        quicksort(pi+1, r, nums)  # Recursively sorting the right values\n",
    "    return nums\n",
    "arr=[]\n",
    "n=int(input())\n",
    "for i in range(n):\n",
    "    arr.append(int(input()))\n",
    "print(arr)\n",
    "quicksort(0,n-1,arr)\n",
    "print(arr)"
   ]
  },
  {
   "cell_type": "code",
   "execution_count": 5,
   "id": "36055089-cb39-4563-90a3-ff47db55d1ae",
   "metadata": {},
   "outputs": [
    {
     "name": "stdout",
     "output_type": "stream",
     "text": [
      "[2, 1, 3, 5, 7, 8, 9]\n",
      "[2, 6, 7, 8, 9, 14, 30]\n"
     ]
    }
   ],
   "source": [
    "def quick_sort(arr):\n",
    "    if len(arr) <= 1:\n",
    "        return arr\n",
    "    pivot = arr[len(arr) // 2]\n",
    "    left = [x for x in arr if x < pivot]\n",
    "    middle = [x for x in arr if x == pivot]\n",
    "    right = [x for x in arr if x > pivot]\n",
    "    return quick_sort(left) + middle + quick_sort(right)\n",
    "\n",
    "def sort_second_half(arr):\n",
    "    n = len(arr)\n",
    "    if n <= 1:\n",
    "        return arr\n",
    "    # Find the midpoint\n",
    "    mid = n // 2\n",
    "    # Sort the second half using quicksort\n",
    "    sorted_second_half = quick_sort(arr[mid:])\n",
    "    # Combine first half with sorted second half\n",
    "    return arr[:mid] + sorted_second_half\n",
    "\n",
    "# Sample inputs\n",
    "arr1 = [2, 1, 3, 5, 7, 8, 9]\n",
    "arr2 = [2, 6, 7, 14, 8, 9, 30]\n",
    "\n",
    "# Sorting the second half of the array\n",
    "print(sort_second_half(arr1))  # Output: [2, 1, 3, 5, 7, 8, 9]\n",
    "print(sort_second_half(arr2))  # Output: [2, 6, 7, 14, 8, 9, 30]\n"
   ]
  },
  {
   "cell_type": "code",
   "execution_count": 2,
   "id": "5bc276aa-bffa-4020-be0c-c5cd97389fad",
   "metadata": {},
   "outputs": [
    {
     "name": "stdout",
     "output_type": "stream",
     "text": [
      "Minimum number of jumps to reach end is 3\n",
      "Minimum number of jumps to reach end is 2\n"
     ]
    }
   ],
   "source": [
    "def minJumps(arr, l, h):\n",
    "    if (h == l):\n",
    "        return 0\n",
    "    if (arr[l] == 0):\n",
    "        return float('inf')\n",
    "    min = float('inf')\n",
    "    for i in range(l + 1, h + 1):\n",
    "        if (i < l + arr[l] + 1):\n",
    "            jumps = minJumps(arr, i, h)\n",
    "            if (jumps != float('inf') and\n",
    "                       jumps + 1 < min):\n",
    "                min = jumps + 1\n",
    " \n",
    "    return min\n",
    "arr = [1, 3, 6, 3, 2, 3, 6, 8, 9, ]\n",
    "arr1=[2,3,1,1,4]\n",
    "n = len(arr)\n",
    "n1=len(arr1)\n",
    "print('Minimum number of jumps to reach','end is', minJumps(arr, 0, n-1))\n",
    "print('Minimum number of jumps to reach','end is', minJumps(arr1, 0, n1-1))"
   ]
  },
  {
   "cell_type": "code",
   "execution_count": 3,
   "id": "2a3a1f18-9a26-451b-8f29-4dd3cd9f05bd",
   "metadata": {},
   "outputs": [
    {
     "name": "stdout",
     "output_type": "stream",
     "text": [
      "Minimum number of jumps to reach end is 3\n"
     ]
    }
   ],
   "source": [
    "def minJumps(arr, n):\n",
    "    jumps = [0 for i in range(n)]\n",
    " \n",
    "    if (n == 0) or (arr[0] == 0):\n",
    "        return float('inf')\n",
    " \n",
    "    jumps[0] = 0\n",
    "    for i in range(1, n):\n",
    "        jumps[i] = float('inf')\n",
    "        for j in range(i):\n",
    "            if (i <= j + arr[j]) and (jumps[j] != float('inf')):\n",
    "                jumps[i] = min(jumps[i], jumps[j] + 1)\n",
    "                break\n",
    "    return jumps[n-1]\n",
    "arr = [1, 3, 6, 1, 0, 9]\n",
    "size = len(arr)\n",
    "print('Minimum number of jumps to reach', 'end is', minJumps(arr, size))\n"
   ]
  },
  {
   "cell_type": "code",
   "execution_count": null,
   "id": "2979e541-4286-46b6-9706-bac7183ebe63",
   "metadata": {},
   "outputs": [],
   "source": []
  }
 ],
 "metadata": {
  "kernelspec": {
   "display_name": "Python 3 (ipykernel)",
   "language": "python",
   "name": "python3"
  },
  "language_info": {
   "codemirror_mode": {
    "name": "ipython",
    "version": 3
   },
   "file_extension": ".py",
   "mimetype": "text/x-python",
   "name": "python",
   "nbconvert_exporter": "python",
   "pygments_lexer": "ipython3",
   "version": "3.11.7"
  }
 },
 "nbformat": 4,
 "nbformat_minor": 5
}
